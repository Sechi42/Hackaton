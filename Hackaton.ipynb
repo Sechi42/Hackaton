{
  "cells": [
    {
      "cell_type": "markdown",
      "metadata": {
        "id": "oF5sUbKoLI7H"
      },
      "source": [
        "## **Requisitos generales**\n",
        "\n",
        "El Hackathon  da inicio el  lunes 1 de Julio a las 16.30 hrs (MX)  y termina el 5 de Julio a las  16.30 hrs(MX) con el DemoDay.\n",
        "\n",
        "<aside>\n",
        "⏱️ **La fecha y hora limite de entrega de los proyectos es el día viernes a las 14hrs (MX) después de esta hora no se aceptan más entregas.**\n",
        "\n",
        "</aside>\n",
        "\n",
        "1. Tu proyecto deberá estar colocado y entregado en un repositorio de Github.\n",
        "\n",
        "2. Al llegar la fecha limite y hora  cada equipo debe enviar un enlace al @alma.linares en discord\n",
        "\n",
        "3. El tiempo de presentación el dīa del DemoDay es limitado, cada equipo tendrá un tiempo estrictamente contabilizado de 10 min. como máximo\n"
      ]
    },
    {
      "cell_type": "markdown",
      "metadata": {
        "id": "rfExYEXZLI7K"
      },
      "source": [
        "<aside>\n",
        "⏱️ **El reto**\n",
        "\n",
        "Es cumplir con los siguientes criterios de evaluación :\n",
        "\n",
        " **AED** (*Análisis exploratorio de datos*)\n",
        "\n",
        "**Visualización**\n",
        "\n",
        "**Reporte de resultados**\n",
        "\n",
        "**Conclusiones dentro de una página WEB**\n",
        "\n",
        "</aside>"
      ]
    },
    {
      "cell_type": "markdown",
      "metadata": {
        "id": "Uir7-PamLI7K"
      },
      "source": [
        "### Mentorías\n",
        "\n",
        "- A cada equipo solo se le darán 20 minutos de consulta\n",
        "- Pides en el canal del Hackathon (#mentoria-hackathon. @ pones el nombre del tutor) la mentoría y se te asignará el espacio disponible.\n",
        "- Los horarios enlistados corresponden hora México\n",
        "\n",
        "**@IvanAlducin (DA y DS)**\n",
        "\n",
        "Ma-V   8:00 - 9:00 hrs.     L-J   18:00 - 21:00hrs\n",
        "\n",
        "**@Horacio León (WD)**\n",
        "\n",
        "L-J.   19:00 - 22:00 hrs\n",
        "\n",
        "**@Marco Espinosa (WD)**\n",
        "\n",
        "Ma y V  16:00 - 18:00 hrs\n",
        "Mi         19:00 - 21:00 hrs"
      ]
    },
    {
      "cell_type": "markdown",
      "metadata": {
        "id": "V6mJ_UvyLI7L"
      },
      "source": [
        "# Estadística Descriptiva\n",
        "## Análisis Exploratorio\n",
        "\n",
        "• Recency. Esta métrica se puede construir tomando como base el día actual y a este restar\n",
        "los días hasta la última fecha de compra del cliente, puede ser días, semanas, años, esto\n",
        "depende del tipo de industria y la frecuencia promedio de compra (las personas no\n",
        "compran un auto nuevo cada 2 semanas, o tal vez sí, pero no las conocemos). Así que\n",
        "puedes usar la última fecha de compra del conjunto de datos como parámetro para estimar\n",
        "la diferencia de días del resto de compras.\n",
        "\n",
        "• Frequency. Esta métrica se puede construir contando el número de compras que un\n",
        "cliente ha hecho, puede ser por compra, o por producto, depende del enfoque que uno le\n",
        "quiera dar.\n",
        "\n",
        "• Monetary. Esta métrica es la más sencilla, repres"
      ]
    },
    {
      "cell_type": "code",
      "execution_count": 2,
      "metadata": {
        "id": "UyGk6PCALI7L"
      },
      "outputs": [],
      "source": [
        "# Importar bibliotecas\n",
        "import pandas as pd\n",
        "import numpy as np\n",
        "import seaborn as sns\n",
        "import matplotlib.pyplot as plt\n",
        "from scipy import stats"
      ]
    },
    {
      "cell_type": "code",
      "execution_count": 6,
      "metadata": {
        "id": "wBfKoalgLI7M",
        "outputId": "bcb227ee-cae9-4476-bd4f-e848474d21ea",
        "colab": {
          "base_uri": "https://localhost:8080/",
          "height": 304
        }
      },
      "outputs": [
        {
          "output_type": "error",
          "ename": "FileNotFoundError",
          "evalue": "[Errno 2] No such file or directory: './datasets/Online_Retail.csv'",
          "traceback": [
            "\u001b[0;31m---------------------------------------------------------------------------\u001b[0m",
            "\u001b[0;31mFileNotFoundError\u001b[0m                         Traceback (most recent call last)",
            "\u001b[0;32m<ipython-input-6-d58c3beb83e8>\u001b[0m in \u001b[0;36m<cell line: 2>\u001b[0;34m()\u001b[0m\n\u001b[1;32m      1\u001b[0m \u001b[0;31m#df= pd.read_csv('./datasets/Online_Retail.csv')\u001b[0m\u001b[0;34m\u001b[0m\u001b[0;34m\u001b[0m\u001b[0m\n\u001b[0;32m----> 2\u001b[0;31m \u001b[0mdf\u001b[0m \u001b[0;34m=\u001b[0m \u001b[0mpd\u001b[0m\u001b[0;34m.\u001b[0m\u001b[0mread_csv\u001b[0m\u001b[0;34m(\u001b[0m\u001b[0;34m'./datasets/Online_Retail.csv'\u001b[0m\u001b[0;34m,\u001b[0m \u001b[0mencoding\u001b[0m\u001b[0;34m=\u001b[0m\u001b[0;34m'latin1'\u001b[0m\u001b[0;34m)\u001b[0m\u001b[0;34m\u001b[0m\u001b[0;34m\u001b[0m\u001b[0m\n\u001b[0m",
            "\u001b[0;32m/usr/local/lib/python3.10/dist-packages/pandas/io/parsers/readers.py\u001b[0m in \u001b[0;36mread_csv\u001b[0;34m(filepath_or_buffer, sep, delimiter, header, names, index_col, usecols, dtype, engine, converters, true_values, false_values, skipinitialspace, skiprows, skipfooter, nrows, na_values, keep_default_na, na_filter, verbose, skip_blank_lines, parse_dates, infer_datetime_format, keep_date_col, date_parser, date_format, dayfirst, cache_dates, iterator, chunksize, compression, thousands, decimal, lineterminator, quotechar, quoting, doublequote, escapechar, comment, encoding, encoding_errors, dialect, on_bad_lines, delim_whitespace, low_memory, memory_map, float_precision, storage_options, dtype_backend)\u001b[0m\n\u001b[1;32m    910\u001b[0m     \u001b[0mkwds\u001b[0m\u001b[0;34m.\u001b[0m\u001b[0mupdate\u001b[0m\u001b[0;34m(\u001b[0m\u001b[0mkwds_defaults\u001b[0m\u001b[0;34m)\u001b[0m\u001b[0;34m\u001b[0m\u001b[0;34m\u001b[0m\u001b[0m\n\u001b[1;32m    911\u001b[0m \u001b[0;34m\u001b[0m\u001b[0m\n\u001b[0;32m--> 912\u001b[0;31m     \u001b[0;32mreturn\u001b[0m \u001b[0m_read\u001b[0m\u001b[0;34m(\u001b[0m\u001b[0mfilepath_or_buffer\u001b[0m\u001b[0;34m,\u001b[0m \u001b[0mkwds\u001b[0m\u001b[0;34m)\u001b[0m\u001b[0;34m\u001b[0m\u001b[0;34m\u001b[0m\u001b[0m\n\u001b[0m\u001b[1;32m    913\u001b[0m \u001b[0;34m\u001b[0m\u001b[0m\n\u001b[1;32m    914\u001b[0m \u001b[0;34m\u001b[0m\u001b[0m\n",
            "\u001b[0;32m/usr/local/lib/python3.10/dist-packages/pandas/io/parsers/readers.py\u001b[0m in \u001b[0;36m_read\u001b[0;34m(filepath_or_buffer, kwds)\u001b[0m\n\u001b[1;32m    575\u001b[0m \u001b[0;34m\u001b[0m\u001b[0m\n\u001b[1;32m    576\u001b[0m     \u001b[0;31m# Create the parser.\u001b[0m\u001b[0;34m\u001b[0m\u001b[0;34m\u001b[0m\u001b[0m\n\u001b[0;32m--> 577\u001b[0;31m     \u001b[0mparser\u001b[0m \u001b[0;34m=\u001b[0m \u001b[0mTextFileReader\u001b[0m\u001b[0;34m(\u001b[0m\u001b[0mfilepath_or_buffer\u001b[0m\u001b[0;34m,\u001b[0m \u001b[0;34m**\u001b[0m\u001b[0mkwds\u001b[0m\u001b[0;34m)\u001b[0m\u001b[0;34m\u001b[0m\u001b[0;34m\u001b[0m\u001b[0m\n\u001b[0m\u001b[1;32m    578\u001b[0m \u001b[0;34m\u001b[0m\u001b[0m\n\u001b[1;32m    579\u001b[0m     \u001b[0;32mif\u001b[0m \u001b[0mchunksize\u001b[0m \u001b[0;32mor\u001b[0m \u001b[0miterator\u001b[0m\u001b[0;34m:\u001b[0m\u001b[0;34m\u001b[0m\u001b[0;34m\u001b[0m\u001b[0m\n",
            "\u001b[0;32m/usr/local/lib/python3.10/dist-packages/pandas/io/parsers/readers.py\u001b[0m in \u001b[0;36m__init__\u001b[0;34m(self, f, engine, **kwds)\u001b[0m\n\u001b[1;32m   1405\u001b[0m \u001b[0;34m\u001b[0m\u001b[0m\n\u001b[1;32m   1406\u001b[0m         \u001b[0mself\u001b[0m\u001b[0;34m.\u001b[0m\u001b[0mhandles\u001b[0m\u001b[0;34m:\u001b[0m \u001b[0mIOHandles\u001b[0m \u001b[0;34m|\u001b[0m \u001b[0;32mNone\u001b[0m \u001b[0;34m=\u001b[0m \u001b[0;32mNone\u001b[0m\u001b[0;34m\u001b[0m\u001b[0;34m\u001b[0m\u001b[0m\n\u001b[0;32m-> 1407\u001b[0;31m         \u001b[0mself\u001b[0m\u001b[0;34m.\u001b[0m\u001b[0m_engine\u001b[0m \u001b[0;34m=\u001b[0m \u001b[0mself\u001b[0m\u001b[0;34m.\u001b[0m\u001b[0m_make_engine\u001b[0m\u001b[0;34m(\u001b[0m\u001b[0mf\u001b[0m\u001b[0;34m,\u001b[0m \u001b[0mself\u001b[0m\u001b[0;34m.\u001b[0m\u001b[0mengine\u001b[0m\u001b[0;34m)\u001b[0m\u001b[0;34m\u001b[0m\u001b[0;34m\u001b[0m\u001b[0m\n\u001b[0m\u001b[1;32m   1408\u001b[0m \u001b[0;34m\u001b[0m\u001b[0m\n\u001b[1;32m   1409\u001b[0m     \u001b[0;32mdef\u001b[0m \u001b[0mclose\u001b[0m\u001b[0;34m(\u001b[0m\u001b[0mself\u001b[0m\u001b[0;34m)\u001b[0m \u001b[0;34m->\u001b[0m \u001b[0;32mNone\u001b[0m\u001b[0;34m:\u001b[0m\u001b[0;34m\u001b[0m\u001b[0;34m\u001b[0m\u001b[0m\n",
            "\u001b[0;32m/usr/local/lib/python3.10/dist-packages/pandas/io/parsers/readers.py\u001b[0m in \u001b[0;36m_make_engine\u001b[0;34m(self, f, engine)\u001b[0m\n\u001b[1;32m   1659\u001b[0m                 \u001b[0;32mif\u001b[0m \u001b[0;34m\"b\"\u001b[0m \u001b[0;32mnot\u001b[0m \u001b[0;32min\u001b[0m \u001b[0mmode\u001b[0m\u001b[0;34m:\u001b[0m\u001b[0;34m\u001b[0m\u001b[0;34m\u001b[0m\u001b[0m\n\u001b[1;32m   1660\u001b[0m                     \u001b[0mmode\u001b[0m \u001b[0;34m+=\u001b[0m \u001b[0;34m\"b\"\u001b[0m\u001b[0;34m\u001b[0m\u001b[0;34m\u001b[0m\u001b[0m\n\u001b[0;32m-> 1661\u001b[0;31m             self.handles = get_handle(\n\u001b[0m\u001b[1;32m   1662\u001b[0m                 \u001b[0mf\u001b[0m\u001b[0;34m,\u001b[0m\u001b[0;34m\u001b[0m\u001b[0;34m\u001b[0m\u001b[0m\n\u001b[1;32m   1663\u001b[0m                 \u001b[0mmode\u001b[0m\u001b[0;34m,\u001b[0m\u001b[0;34m\u001b[0m\u001b[0;34m\u001b[0m\u001b[0m\n",
            "\u001b[0;32m/usr/local/lib/python3.10/dist-packages/pandas/io/common.py\u001b[0m in \u001b[0;36mget_handle\u001b[0;34m(path_or_buf, mode, encoding, compression, memory_map, is_text, errors, storage_options)\u001b[0m\n\u001b[1;32m    857\u001b[0m         \u001b[0;32mif\u001b[0m \u001b[0mioargs\u001b[0m\u001b[0;34m.\u001b[0m\u001b[0mencoding\u001b[0m \u001b[0;32mand\u001b[0m \u001b[0;34m\"b\"\u001b[0m \u001b[0;32mnot\u001b[0m \u001b[0;32min\u001b[0m \u001b[0mioargs\u001b[0m\u001b[0;34m.\u001b[0m\u001b[0mmode\u001b[0m\u001b[0;34m:\u001b[0m\u001b[0;34m\u001b[0m\u001b[0;34m\u001b[0m\u001b[0m\n\u001b[1;32m    858\u001b[0m             \u001b[0;31m# Encoding\u001b[0m\u001b[0;34m\u001b[0m\u001b[0;34m\u001b[0m\u001b[0m\n\u001b[0;32m--> 859\u001b[0;31m             handle = open(\n\u001b[0m\u001b[1;32m    860\u001b[0m                 \u001b[0mhandle\u001b[0m\u001b[0;34m,\u001b[0m\u001b[0;34m\u001b[0m\u001b[0;34m\u001b[0m\u001b[0m\n\u001b[1;32m    861\u001b[0m                 \u001b[0mioargs\u001b[0m\u001b[0;34m.\u001b[0m\u001b[0mmode\u001b[0m\u001b[0;34m,\u001b[0m\u001b[0;34m\u001b[0m\u001b[0;34m\u001b[0m\u001b[0m\n",
            "\u001b[0;31mFileNotFoundError\u001b[0m: [Errno 2] No such file or directory: './datasets/Online_Retail.csv'"
          ]
        }
      ],
      "source": [
        "#df= pd.read_csv('./datasets/Online_Retail.csv')\n",
        "df = pd.read_csv('./datasets/Online_Retail.csv', encoding='latin1')"
      ]
    },
    {
      "cell_type": "code",
      "execution_count": 3,
      "metadata": {
        "id": "_l_9fHJqLI7M"
      },
      "outputs": [],
      "source": [
        "# mostrar información del DataFrame\n",
        "def info(df):\n",
        "    display(df.head(10))\n",
        "    print()\n",
        "    print(df.info())\n",
        "    print()\n",
        "    print(df.describe())\n",
        "    print()\n",
        "    print('Duplicated: ',df.duplicated().sum())\n",
        "    print()\n",
        "    print('Null values:')\n",
        "    print(df.isnull().sum())"
      ]
    },
    {
      "cell_type": "code",
      "execution_count": 5,
      "metadata": {
        "id": "u-P5wwwALI7M",
        "outputId": "3c2b1cbe-ca9b-4505-d192-cc87f3f4ca16",
        "colab": {
          "base_uri": "https://localhost:8080/",
          "height": 141
        }
      },
      "outputs": [
        {
          "output_type": "error",
          "ename": "NameError",
          "evalue": "name 'df' is not defined",
          "traceback": [
            "\u001b[0;31m---------------------------------------------------------------------------\u001b[0m",
            "\u001b[0;31mNameError\u001b[0m                                 Traceback (most recent call last)",
            "\u001b[0;32m<ipython-input-5-21aabb841431>\u001b[0m in \u001b[0;36m<cell line: 1>\u001b[0;34m()\u001b[0m\n\u001b[0;32m----> 1\u001b[0;31m \u001b[0minfo\u001b[0m\u001b[0;34m(\u001b[0m\u001b[0mdf\u001b[0m\u001b[0;34m)\u001b[0m\u001b[0;34m\u001b[0m\u001b[0;34m\u001b[0m\u001b[0m\n\u001b[0m",
            "\u001b[0;31mNameError\u001b[0m: name 'df' is not defined"
          ]
        }
      ],
      "source": [
        "info(df)"
      ]
    },
    {
      "cell_type": "code",
      "execution_count": null,
      "metadata": {
        "id": "rYF2uQuZLI7N"
      },
      "outputs": [],
      "source": [
        "def encabezados(df):\n",
        "    '''\n",
        "    Renombrar columnas: Bucle en los encabezados para :\n",
        "    1. Poner todo en minúsculas\n",
        "    2. Eliminar los espacios\n",
        "    3. Remplazar espacio entre palabras por \"_\"\n",
        "    '''\n",
        "\n",
        "    new_col_names = []\n",
        "\n",
        "    for name in df.columns:\n",
        "        # Luego, pon todas las letras en minúsculas\n",
        "        name_lowered = name.lower()\n",
        "        # Elimina los espacios al principio y al final\n",
        "        name_stripped = name_lowered.strip()\n",
        "        # Por último, reemplaza los espacios entre palabras por guiones bajos\n",
        "        name_no_spaces = name_stripped.replace(' ', '_')\n",
        "        # Convertir todo a string\n",
        "        name_string = str(name_no_spaces)\n",
        "        # Agrega el nuevo nombre a la lista de nuevos nombres de columna\n",
        "        new_col_names.append(name_string)\n",
        "    # Reemplaza los nombres anteriores por los nuevos\n",
        "    df.columns = new_col_names\n",
        "\n",
        "encabezados(df)"
      ]
    },
    {
      "cell_type": "code",
      "execution_count": null,
      "metadata": {
        "id": "Eul9zpeaLI7N"
      },
      "outputs": [],
      "source": [
        "df = df.map(lambda x: x.lower() if type(x) == str else x)\n"
      ]
    },
    {
      "cell_type": "code",
      "execution_count": null,
      "metadata": {
        "id": "F1OvMy-xLI7O"
      },
      "outputs": [],
      "source": [
        "df['invoice_date'] = pd.to_datetime(df['invoice_date'], format=\"%d/%m/%Y %H:%M\")\n"
      ]
    },
    {
      "cell_type": "code",
      "execution_count": null,
      "metadata": {
        "id": "F_SWT35LLI7O",
        "outputId": "f7f44208-239f-49fb-de54-5cf9bea56be1"
      },
      "outputs": [
        {
          "data": {
            "text/html": [
              "<div>\n",
              "<style scoped>\n",
              "    .dataframe tbody tr th:only-of-type {\n",
              "        vertical-align: middle;\n",
              "    }\n",
              "\n",
              "    .dataframe tbody tr th {\n",
              "        vertical-align: top;\n",
              "    }\n",
              "\n",
              "    .dataframe thead th {\n",
              "        text-align: right;\n",
              "    }\n",
              "</style>\n",
              "<table border=\"1\" class=\"dataframe\">\n",
              "  <thead>\n",
              "    <tr style=\"text-align: right;\">\n",
              "      <th></th>\n",
              "      <th>invoice_no</th>\n",
              "      <th>stock_code</th>\n",
              "      <th>description</th>\n",
              "      <th>quantity</th>\n",
              "      <th>invoice_date</th>\n",
              "      <th>unit_price</th>\n",
              "      <th>customer_id</th>\n",
              "      <th>region</th>\n",
              "    </tr>\n",
              "  </thead>\n",
              "  <tbody>\n",
              "    <tr>\n",
              "      <th>517</th>\n",
              "      <td>536409</td>\n",
              "      <td>21866</td>\n",
              "      <td>union jack flag luggage tag</td>\n",
              "      <td>1</td>\n",
              "      <td>2019-12-01 11:45:00</td>\n",
              "      <td>1.25</td>\n",
              "      <td>17908.0</td>\n",
              "      <td>united kingdom</td>\n",
              "    </tr>\n",
              "    <tr>\n",
              "      <th>527</th>\n",
              "      <td>536409</td>\n",
              "      <td>22866</td>\n",
              "      <td>hand warmer scotty dog design</td>\n",
              "      <td>1</td>\n",
              "      <td>2019-12-01 11:45:00</td>\n",
              "      <td>2.10</td>\n",
              "      <td>17908.0</td>\n",
              "      <td>united kingdom</td>\n",
              "    </tr>\n",
              "    <tr>\n",
              "      <th>537</th>\n",
              "      <td>536409</td>\n",
              "      <td>22900</td>\n",
              "      <td>set 2 tea towels i love london</td>\n",
              "      <td>1</td>\n",
              "      <td>2019-12-01 11:45:00</td>\n",
              "      <td>2.95</td>\n",
              "      <td>17908.0</td>\n",
              "      <td>united kingdom</td>\n",
              "    </tr>\n",
              "    <tr>\n",
              "      <th>539</th>\n",
              "      <td>536409</td>\n",
              "      <td>22111</td>\n",
              "      <td>scottie dog hot water bottle</td>\n",
              "      <td>1</td>\n",
              "      <td>2019-12-01 11:45:00</td>\n",
              "      <td>4.95</td>\n",
              "      <td>17908.0</td>\n",
              "      <td>united kingdom</td>\n",
              "    </tr>\n",
              "    <tr>\n",
              "      <th>555</th>\n",
              "      <td>536412</td>\n",
              "      <td>22327</td>\n",
              "      <td>round snack boxes set of 4 skulls</td>\n",
              "      <td>1</td>\n",
              "      <td>2019-12-01 11:49:00</td>\n",
              "      <td>2.95</td>\n",
              "      <td>17920.0</td>\n",
              "      <td>united kingdom</td>\n",
              "    </tr>\n",
              "    <tr>\n",
              "      <th>587</th>\n",
              "      <td>536412</td>\n",
              "      <td>22273</td>\n",
              "      <td>feltcraft doll molly</td>\n",
              "      <td>1</td>\n",
              "      <td>2019-12-01 11:49:00</td>\n",
              "      <td>2.95</td>\n",
              "      <td>17920.0</td>\n",
              "      <td>united kingdom</td>\n",
              "    </tr>\n",
              "    <tr>\n",
              "      <th>589</th>\n",
              "      <td>536412</td>\n",
              "      <td>22749</td>\n",
              "      <td>feltcraft princess charlotte doll</td>\n",
              "      <td>1</td>\n",
              "      <td>2019-12-01 11:49:00</td>\n",
              "      <td>3.75</td>\n",
              "      <td>17920.0</td>\n",
              "      <td>united kingdom</td>\n",
              "    </tr>\n",
              "    <tr>\n",
              "      <th>594</th>\n",
              "      <td>536412</td>\n",
              "      <td>22141</td>\n",
              "      <td>christmas craft tree top angel</td>\n",
              "      <td>1</td>\n",
              "      <td>2019-12-01 11:49:00</td>\n",
              "      <td>2.10</td>\n",
              "      <td>17920.0</td>\n",
              "      <td>united kingdom</td>\n",
              "    </tr>\n",
              "    <tr>\n",
              "      <th>598</th>\n",
              "      <td>536412</td>\n",
              "      <td>21448</td>\n",
              "      <td>12 daisy pegs in wood box</td>\n",
              "      <td>1</td>\n",
              "      <td>2019-12-01 11:49:00</td>\n",
              "      <td>1.65</td>\n",
              "      <td>17920.0</td>\n",
              "      <td>united kingdom</td>\n",
              "    </tr>\n",
              "    <tr>\n",
              "      <th>600</th>\n",
              "      <td>536412</td>\n",
              "      <td>22569</td>\n",
              "      <td>feltcraft cushion butterfly</td>\n",
              "      <td>2</td>\n",
              "      <td>2019-12-01 11:49:00</td>\n",
              "      <td>3.75</td>\n",
              "      <td>17920.0</td>\n",
              "      <td>united kingdom</td>\n",
              "    </tr>\n",
              "  </tbody>\n",
              "</table>\n",
              "</div>"
            ],
            "text/plain": [
              "    invoice_no stock_code                        description  quantity  \\\n",
              "517     536409      21866        union jack flag luggage tag         1   \n",
              "527     536409      22866      hand warmer scotty dog design         1   \n",
              "537     536409      22900    set 2 tea towels i love london          1   \n",
              "539     536409      22111       scottie dog hot water bottle         1   \n",
              "555     536412      22327  round snack boxes set of 4 skulls         1   \n",
              "587     536412      22273               feltcraft doll molly         1   \n",
              "589     536412      22749  feltcraft princess charlotte doll         1   \n",
              "594     536412      22141     christmas craft tree top angel         1   \n",
              "598     536412      21448          12 daisy pegs in wood box         1   \n",
              "600     536412      22569        feltcraft cushion butterfly         2   \n",
              "\n",
              "           invoice_date  unit_price customer_id          region  \n",
              "517 2019-12-01 11:45:00        1.25     17908.0  united kingdom  \n",
              "527 2019-12-01 11:45:00        2.10     17908.0  united kingdom  \n",
              "537 2019-12-01 11:45:00        2.95     17908.0  united kingdom  \n",
              "539 2019-12-01 11:45:00        4.95     17908.0  united kingdom  \n",
              "555 2019-12-01 11:49:00        2.95     17920.0  united kingdom  \n",
              "587 2019-12-01 11:49:00        2.95     17920.0  united kingdom  \n",
              "589 2019-12-01 11:49:00        3.75     17920.0  united kingdom  \n",
              "594 2019-12-01 11:49:00        2.10     17920.0  united kingdom  \n",
              "598 2019-12-01 11:49:00        1.65     17920.0  united kingdom  \n",
              "600 2019-12-01 11:49:00        3.75     17920.0  united kingdom  "
            ]
          },
          "execution_count": 27,
          "metadata": {},
          "output_type": "execute_result"
        }
      ],
      "source": [
        "df[df.duplicated()].head(10)"
      ]
    },
    {
      "cell_type": "code",
      "execution_count": null,
      "metadata": {
        "id": "wRN5cUK4LI7O",
        "outputId": "e89d4239-897b-4d87-96c6-64a2dc67a886"
      },
      "outputs": [
        {
          "data": {
            "text/html": [
              "<div>\n",
              "<style scoped>\n",
              "    .dataframe tbody tr th:only-of-type {\n",
              "        vertical-align: middle;\n",
              "    }\n",
              "\n",
              "    .dataframe tbody tr th {\n",
              "        vertical-align: top;\n",
              "    }\n",
              "\n",
              "    .dataframe thead th {\n",
              "        text-align: right;\n",
              "    }\n",
              "</style>\n",
              "<table border=\"1\" class=\"dataframe\">\n",
              "  <thead>\n",
              "    <tr style=\"text-align: right;\">\n",
              "      <th></th>\n",
              "      <th>invoice_no</th>\n",
              "      <th>stock_code</th>\n",
              "      <th>description</th>\n",
              "      <th>quantity</th>\n",
              "      <th>invoice_date</th>\n",
              "      <th>unit_price</th>\n",
              "      <th>customer_id</th>\n",
              "      <th>region</th>\n",
              "    </tr>\n",
              "  </thead>\n",
              "  <tbody>\n",
              "    <tr>\n",
              "      <th>494</th>\n",
              "      <td>536409</td>\n",
              "      <td>21866</td>\n",
              "      <td>union jack flag luggage tag</td>\n",
              "      <td>1</td>\n",
              "      <td>2019-12-01 11:45:00</td>\n",
              "      <td>1.25</td>\n",
              "      <td>17908.0</td>\n",
              "      <td>united kingdom</td>\n",
              "    </tr>\n",
              "    <tr>\n",
              "      <th>517</th>\n",
              "      <td>536409</td>\n",
              "      <td>21866</td>\n",
              "      <td>union jack flag luggage tag</td>\n",
              "      <td>1</td>\n",
              "      <td>2019-12-01 11:45:00</td>\n",
              "      <td>1.25</td>\n",
              "      <td>17908.0</td>\n",
              "      <td>united kingdom</td>\n",
              "    </tr>\n",
              "  </tbody>\n",
              "</table>\n",
              "</div>"
            ],
            "text/plain": [
              "    invoice_no stock_code                  description  quantity  \\\n",
              "494     536409      21866  union jack flag luggage tag         1   \n",
              "517     536409      21866  union jack flag luggage tag         1   \n",
              "\n",
              "           invoice_date  unit_price customer_id          region  \n",
              "494 2019-12-01 11:45:00        1.25     17908.0  united kingdom  \n",
              "517 2019-12-01 11:45:00        1.25     17908.0  united kingdom  "
            ]
          },
          "execution_count": 28,
          "metadata": {},
          "output_type": "execute_result"
        }
      ],
      "source": [
        "df.query('invoice_no == \"536409\" & stock_code == \"21866\" & customer_id == 17908.0')"
      ]
    },
    {
      "cell_type": "code",
      "execution_count": null,
      "metadata": {
        "id": "lQYCc_fWLI7O"
      },
      "outputs": [],
      "source": [
        "df.drop_duplicates(keep='first'.format('trip_id'), inplace=True)"
      ]
    },
    {
      "cell_type": "code",
      "execution_count": null,
      "metadata": {
        "id": "f7eaTxSdLI7O"
      },
      "outputs": [],
      "source": [
        "df['description'] = df['description'].fillna('unknown')\n",
        "df['customer_id'] = df['customer_id'].fillna('unknown')"
      ]
    },
    {
      "cell_type": "code",
      "execution_count": null,
      "metadata": {
        "id": "HcLuhfx3LI7O",
        "outputId": "7e1ac8a1-a4a2-4de4-b3de-82ce17142ed4"
      },
      "outputs": [
        {
          "data": {
            "text/html": [
              "<div>\n",
              "<style scoped>\n",
              "    .dataframe tbody tr th:only-of-type {\n",
              "        vertical-align: middle;\n",
              "    }\n",
              "\n",
              "    .dataframe tbody tr th {\n",
              "        vertical-align: top;\n",
              "    }\n",
              "\n",
              "    .dataframe thead th {\n",
              "        text-align: right;\n",
              "    }\n",
              "</style>\n",
              "<table border=\"1\" class=\"dataframe\">\n",
              "  <thead>\n",
              "    <tr style=\"text-align: right;\">\n",
              "      <th></th>\n",
              "      <th>invoice_no</th>\n",
              "      <th>stock_code</th>\n",
              "      <th>description</th>\n",
              "      <th>quantity</th>\n",
              "      <th>invoice_date</th>\n",
              "      <th>unit_price</th>\n",
              "      <th>customer_id</th>\n",
              "      <th>region</th>\n",
              "    </tr>\n",
              "  </thead>\n",
              "  <tbody>\n",
              "    <tr>\n",
              "      <th>0</th>\n",
              "      <td>536365</td>\n",
              "      <td>85123a</td>\n",
              "      <td>white hanging heart t-light holder</td>\n",
              "      <td>6</td>\n",
              "      <td>2019-12-01 08:26:00</td>\n",
              "      <td>2.55</td>\n",
              "      <td>17850.0</td>\n",
              "      <td>united kingdom</td>\n",
              "    </tr>\n",
              "    <tr>\n",
              "      <th>1</th>\n",
              "      <td>536365</td>\n",
              "      <td>71053</td>\n",
              "      <td>white metal lantern</td>\n",
              "      <td>6</td>\n",
              "      <td>2019-12-01 08:26:00</td>\n",
              "      <td>3.39</td>\n",
              "      <td>17850.0</td>\n",
              "      <td>united kingdom</td>\n",
              "    </tr>\n",
              "    <tr>\n",
              "      <th>2</th>\n",
              "      <td>536365</td>\n",
              "      <td>84406b</td>\n",
              "      <td>cream cupid hearts coat hanger</td>\n",
              "      <td>8</td>\n",
              "      <td>2019-12-01 08:26:00</td>\n",
              "      <td>2.75</td>\n",
              "      <td>17850.0</td>\n",
              "      <td>united kingdom</td>\n",
              "    </tr>\n",
              "    <tr>\n",
              "      <th>3</th>\n",
              "      <td>536365</td>\n",
              "      <td>84029g</td>\n",
              "      <td>knitted union flag hot water bottle</td>\n",
              "      <td>6</td>\n",
              "      <td>2019-12-01 08:26:00</td>\n",
              "      <td>3.39</td>\n",
              "      <td>17850.0</td>\n",
              "      <td>united kingdom</td>\n",
              "    </tr>\n",
              "    <tr>\n",
              "      <th>4</th>\n",
              "      <td>536365</td>\n",
              "      <td>84029e</td>\n",
              "      <td>red woolly hottie white heart.</td>\n",
              "      <td>6</td>\n",
              "      <td>2019-12-01 08:26:00</td>\n",
              "      <td>3.39</td>\n",
              "      <td>17850.0</td>\n",
              "      <td>united kingdom</td>\n",
              "    </tr>\n",
              "    <tr>\n",
              "      <th>5</th>\n",
              "      <td>536365</td>\n",
              "      <td>22752</td>\n",
              "      <td>set 7 babushka nesting boxes</td>\n",
              "      <td>2</td>\n",
              "      <td>2019-12-01 08:26:00</td>\n",
              "      <td>7.65</td>\n",
              "      <td>17850.0</td>\n",
              "      <td>united kingdom</td>\n",
              "    </tr>\n",
              "    <tr>\n",
              "      <th>6</th>\n",
              "      <td>536365</td>\n",
              "      <td>21730</td>\n",
              "      <td>glass star frosted t-light holder</td>\n",
              "      <td>6</td>\n",
              "      <td>2019-12-01 08:26:00</td>\n",
              "      <td>4.25</td>\n",
              "      <td>17850.0</td>\n",
              "      <td>united kingdom</td>\n",
              "    </tr>\n",
              "    <tr>\n",
              "      <th>7</th>\n",
              "      <td>536366</td>\n",
              "      <td>22633</td>\n",
              "      <td>hand warmer union jack</td>\n",
              "      <td>6</td>\n",
              "      <td>2019-12-01 08:28:00</td>\n",
              "      <td>1.85</td>\n",
              "      <td>17850.0</td>\n",
              "      <td>united kingdom</td>\n",
              "    </tr>\n",
              "    <tr>\n",
              "      <th>8</th>\n",
              "      <td>536366</td>\n",
              "      <td>22632</td>\n",
              "      <td>hand warmer red polka dot</td>\n",
              "      <td>6</td>\n",
              "      <td>2019-12-01 08:28:00</td>\n",
              "      <td>1.85</td>\n",
              "      <td>17850.0</td>\n",
              "      <td>united kingdom</td>\n",
              "    </tr>\n",
              "    <tr>\n",
              "      <th>9</th>\n",
              "      <td>536367</td>\n",
              "      <td>84879</td>\n",
              "      <td>assorted colour bird ornament</td>\n",
              "      <td>32</td>\n",
              "      <td>2019-12-01 08:34:00</td>\n",
              "      <td>1.69</td>\n",
              "      <td>13047.0</td>\n",
              "      <td>united kingdom</td>\n",
              "    </tr>\n",
              "  </tbody>\n",
              "</table>\n",
              "</div>"
            ],
            "text/plain": [
              "  invoice_no stock_code                          description  quantity  \\\n",
              "0     536365     85123a   white hanging heart t-light holder         6   \n",
              "1     536365      71053                  white metal lantern         6   \n",
              "2     536365     84406b       cream cupid hearts coat hanger         8   \n",
              "3     536365     84029g  knitted union flag hot water bottle         6   \n",
              "4     536365     84029e       red woolly hottie white heart.         6   \n",
              "5     536365      22752         set 7 babushka nesting boxes         2   \n",
              "6     536365      21730    glass star frosted t-light holder         6   \n",
              "7     536366      22633               hand warmer union jack         6   \n",
              "8     536366      22632            hand warmer red polka dot         6   \n",
              "9     536367      84879        assorted colour bird ornament        32   \n",
              "\n",
              "         invoice_date  unit_price customer_id          region  \n",
              "0 2019-12-01 08:26:00        2.55     17850.0  united kingdom  \n",
              "1 2019-12-01 08:26:00        3.39     17850.0  united kingdom  \n",
              "2 2019-12-01 08:26:00        2.75     17850.0  united kingdom  \n",
              "3 2019-12-01 08:26:00        3.39     17850.0  united kingdom  \n",
              "4 2019-12-01 08:26:00        3.39     17850.0  united kingdom  \n",
              "5 2019-12-01 08:26:00        7.65     17850.0  united kingdom  \n",
              "6 2019-12-01 08:26:00        4.25     17850.0  united kingdom  \n",
              "7 2019-12-01 08:28:00        1.85     17850.0  united kingdom  \n",
              "8 2019-12-01 08:28:00        1.85     17850.0  united kingdom  \n",
              "9 2019-12-01 08:34:00        1.69     13047.0  united kingdom  "
            ]
          },
          "metadata": {},
          "output_type": "display_data"
        },
        {
          "name": "stdout",
          "output_type": "stream",
          "text": [
            "\n",
            "<class 'pandas.core.frame.DataFrame'>\n",
            "Index: 536641 entries, 0 to 541908\n",
            "Data columns (total 8 columns):\n",
            " #   Column        Non-Null Count   Dtype         \n",
            "---  ------        --------------   -----         \n",
            " 0   invoice_no    536641 non-null  object        \n",
            " 1   stock_code    536641 non-null  object        \n",
            " 2   description   536641 non-null  object        \n",
            " 3   quantity      536641 non-null  int64         \n",
            " 4   invoice_date  536641 non-null  datetime64[ns]\n",
            " 5   unit_price    536641 non-null  float64       \n",
            " 6   customer_id   536641 non-null  object        \n",
            " 7   region        536641 non-null  object        \n",
            "dtypes: datetime64[ns](1), float64(1), int64(1), object(5)\n",
            "memory usage: 36.8+ MB\n",
            "None\n",
            "\n",
            "            quantity                   invoice_date     unit_price\n",
            "count  536641.000000                         536641  536641.000000\n",
            "mean        9.620029  2020-07-04 04:17:03.972040704       4.632656\n",
            "min    -80995.000000            2019-12-01 08:26:00  -11062.060000\n",
            "25%         1.000000            2020-03-28 10:52:00       1.250000\n",
            "50%         3.000000            2020-07-19 14:04:00       2.080000\n",
            "75%        10.000000            2020-10-18 17:05:00       4.130000\n",
            "max     80995.000000            2020-12-09 12:50:00   38970.000000\n",
            "std       219.130156                            NaN      97.233118\n",
            "\n",
            "Duplicated:  0\n",
            "\n",
            "Null values:\n",
            "invoice_no      0\n",
            "stock_code      0\n",
            "description     0\n",
            "quantity        0\n",
            "invoice_date    0\n",
            "unit_price      0\n",
            "customer_id     0\n",
            "region          0\n",
            "dtype: int64\n"
          ]
        }
      ],
      "source": [
        "info(df)"
      ]
    },
    {
      "cell_type": "code",
      "source": [
        "df.nunique()"
      ],
      "metadata": {
        "id": "TnYT2Z0qNI4v",
        "outputId": "9899913f-f991-429f-8dce-c068a272b744",
        "colab": {
          "base_uri": "https://localhost:8080/",
          "height": 141
        }
      },
      "execution_count": 1,
      "outputs": [
        {
          "output_type": "error",
          "ename": "NameError",
          "evalue": "name 'df' is not defined",
          "traceback": [
            "\u001b[0;31m---------------------------------------------------------------------------\u001b[0m",
            "\u001b[0;31mNameError\u001b[0m                                 Traceback (most recent call last)",
            "\u001b[0;32m<ipython-input-1-e767f2043ea1>\u001b[0m in \u001b[0;36m<cell line: 1>\u001b[0;34m()\u001b[0m\n\u001b[0;32m----> 1\u001b[0;31m \u001b[0mdf\u001b[0m\u001b[0;34m.\u001b[0m\u001b[0mnunique\u001b[0m\u001b[0;34m(\u001b[0m\u001b[0;34m)\u001b[0m\u001b[0;34m\u001b[0m\u001b[0;34m\u001b[0m\u001b[0m\n\u001b[0m",
            "\u001b[0;31mNameError\u001b[0m: name 'df' is not defined"
          ]
        }
      ]
    },
    {
      "cell_type": "markdown",
      "metadata": {
        "id": "cF_mHKX-LI7O"
      },
      "source": [
        "# Machine Learning\n",
        "## Clustering\n",
        "\n",
        "Para esta siguiente fase, vamos a desarrollar un modelo de segmentación basado en las 3\n",
        "variables de nuestra metodología RFM.\n",
        "Para ello utilizaremos un algoritmo de aprendizaje no supervisado muy utilizado llamado k-means,\n",
        "el algoritmo k-means es un método de agrupamiento que divide un conjunto de datos en k grupos o\n",
        "clusters. Los datos se agrupan de tal manera que los puntos en el mismo clúster sean más\n",
        "similares entre sí que los puntos en otros clusters.\n",
        "La idea es identificar a los clientes que representen alto valor de acuerdo con su patrón de\n",
        "compras, y clientes de bajo valor. Puedes agregar los grupos que tu consideres necesarios (Acabo\n",
        "de hacer dos grupos: alto valor y bajo valor). Pero lo ideal es tener una segmentación más\n",
        "específica que represente y diferencie cada grupo.\n",
        "Una pregunta importante: ¿Cómo saber cuantos grupos debo crear? Para ellos se ocupará una\n",
        "técnica llamada método del codo. N"
      ]
    }
  ],
  "metadata": {
    "kernelspec": {
      "display_name": "py3",
      "language": "python",
      "name": "python3"
    },
    "language_info": {
      "codemirror_mode": {
        "name": "ipython",
        "version": 3
      },
      "file_extension": ".py",
      "mimetype": "text/x-python",
      "name": "python",
      "nbconvert_exporter": "python",
      "pygments_lexer": "ipython3",
      "version": "3.12.3"
    },
    "colab": {
      "provenance": []
    }
  },
  "nbformat": 4,
  "nbformat_minor": 0
}